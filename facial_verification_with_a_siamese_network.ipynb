{
 "cells": [
  {
   "cell_type": "markdown",
   "id": "f909d1ba",
   "metadata": {},
   "source": [
    "# 1. Setup"
   ]
  },
  {
   "cell_type": "markdown",
   "id": "f191ca3d",
   "metadata": {},
   "source": [
    "## 1.1 Import Dependencies"
   ]
  },
  {
   "cell_type": "code",
   "execution_count": 1,
   "id": "2414e561",
   "metadata": {},
   "outputs": [],
   "source": [
    "#import standard dependencies\n",
    "import cv2\n",
    "import os\n",
    "import random\n",
    "import numpy as np\n",
    "from matplotlib import pyplot as plt"
   ]
  },
  {
   "cell_type": "code",
   "execution_count": 2,
   "id": "4d731d9a",
   "metadata": {},
   "outputs": [],
   "source": [
    "#import tensorflow dependencies-functional api\n",
    "from tensorflow.keras.models import Model\n",
    "from tensorflow.keras.layers import Layer, Conv2D, Dense, MaxPooling2D, Input, Flatten\n",
    "import tensorflow as tf\n"
   ]
  },
  {
   "cell_type": "markdown",
   "id": "9f01138d",
   "metadata": {},
   "source": [
    "## 1.2 Create folder structure"
   ]
  },
  {
   "cell_type": "code",
   "execution_count": 3,
   "id": "2502e9c6",
   "metadata": {},
   "outputs": [],
   "source": [
    "#setup paths\n",
    "pos_path = os.path.join('data','positive')\n",
    "neg_path = os.path.join('data','negative')\n",
    "anc_path = os.path.join('data','anchor')\n",
    "                        "
   ]
  },
  {
   "cell_type": "code",
   "execution_count": 5,
   "id": "cdff1877",
   "metadata": {},
   "outputs": [],
   "source": [
    "#make the directories\n",
    "os.makedirs(pos_path)\n",
    "os.makedirs(neg_path)\n",
    "os.makedirs(anc_path)"
   ]
  },
  {
   "cell_type": "code",
   "execution_count": null,
   "id": "f900458d",
   "metadata": {},
   "outputs": [],
   "source": []
  }
 ],
 "metadata": {
  "kernelspec": {
   "display_name": "jupyter-env35",
   "language": "python",
   "name": "jupyter-env35"
  },
  "language_info": {
   "codemirror_mode": {
    "name": "ipython",
    "version": 3
   },
   "file_extension": ".py",
   "mimetype": "text/x-python",
   "name": "python",
   "nbconvert_exporter": "python",
   "pygments_lexer": "ipython3",
   "version": "3.9.16"
  }
 },
 "nbformat": 4,
 "nbformat_minor": 5
}
